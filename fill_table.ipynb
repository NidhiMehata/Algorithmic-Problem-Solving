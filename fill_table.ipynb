{
 "cells": [
  {
   "cell_type": "code",
   "execution_count": null,
   "metadata": {},
   "outputs": [],
   "source": []
  },
  {
   "cell_type": "code",
   "execution_count": 6,
   "metadata": {},
   "outputs": [],
   "source": [
    "comp = ['Infosys', 'Wipro', 'Inszoom', 'Samsung', 'Robert Bosch', 'Juniper']"
   ]
  },
  {
   "cell_type": "code",
   "execution_count": 7,
   "metadata": {},
   "outputs": [],
   "source": [
    "import random "
   ]
  },
  {
   "cell_type": "code",
   "execution_count": 8,
   "metadata": {},
   "outputs": [],
   "source": [
    "import requests"
   ]
  },
  {
   "cell_type": "code",
   "execution_count": 13,
   "metadata": {},
   "outputs": [],
   "source": [
    "url = 'http://localhost:5000/api/university/dashboard'"
   ]
  },
  {
   "cell_type": "code",
   "execution_count": 17,
   "metadata": {},
   "outputs": [],
   "source": [
    "guide = ['Dr Narayan', 'Praveen M', 'Sunil', 'Shantala']"
   ]
  },
  {
   "cell_type": "code",
   "execution_count": 23,
   "metadata": {},
   "outputs": [],
   "source": [
    "for i in range(1,11):\n",
    "    applied = random.randint(1, 10)\n",
    "    selected = random.randint(0,applied)\n",
    "\n",
    "    requests.post(url, data={\n",
    "        \"id\": i,\n",
    "        \"companyName\": comp[random.randint(0, 5)],\n",
    "        \"profile\": \"X\", \n",
    "        \"sector\" : \"A\",\n",
    "        \"stipend\": random.randint(0,10000),\n",
    "        \"applied\": applied,\n",
    "        \"selected\" : selected,\n",
    "        \"guide\":  guide[random.randint(0,3)],\n",
    "        \"date\": \"2019-06-18\"\n",
    "    })"
   ]
  },
  {
   "cell_type": "code",
   "execution_count": 40,
   "metadata": {},
   "outputs": [
    {
     "data": {
      "text/plain": [
       "'110010'"
      ]
     },
     "execution_count": 40,
     "metadata": {},
     "output_type": "execute_result"
    }
   ],
   "source": [
    "bin(50)[2:]"
   ]
  },
  {
   "cell_type": "code",
   "execution_count": 35,
   "metadata": {},
   "outputs": [],
   "source": [
    "n, l, r = 50, 2, 5"
   ]
  },
  {
   "cell_type": "code",
   "execution_count": 38,
   "metadata": {},
   "outputs": [
    {
     "data": {
      "text/plain": [
       "62"
      ]
     },
     "execution_count": 38,
     "metadata": {},
     "output_type": "execute_result"
    }
   ],
   "source": [
    "n ^ ((1 << l)  + (1 << (r - l)))"
   ]
  },
  {
   "cell_type": "code",
   "execution_count": 65,
   "metadata": {},
   "outputs": [
    {
     "data": {
      "text/plain": [
       "44"
      ]
     },
     "execution_count": 65,
     "metadata": {},
     "output_type": "execute_result"
    }
   ],
   "source": [
    "n ^ ((1 << (r - l + 1)) - 1) << (l-1)"
   ]
  },
  {
   "cell_type": "code",
   "execution_count": 28,
   "metadata": {},
   "outputs": [
    {
     "data": {
      "text/plain": [
       "2"
      ]
     },
     "execution_count": 28,
     "metadata": {},
     "output_type": "execute_result"
    }
   ],
   "source": [
    "1 << (r - l)"
   ]
  },
  {
   "cell_type": "code",
   "execution_count": 55,
   "metadata": {},
   "outputs": [
    {
     "data": {
      "text/plain": [
       "9"
      ]
     },
     "execution_count": 55,
     "metadata": {},
     "output_type": "execute_result"
    }
   ],
   "source": [
    "((1 << (l-1))  + (1 << (r - l)) - 1)"
   ]
  },
  {
   "cell_type": "code",
   "execution_count": 64,
   "metadata": {},
   "outputs": [
    {
     "data": {
      "text/plain": [
       "'0b11110'"
      ]
     },
     "execution_count": 64,
     "metadata": {},
     "output_type": "execute_result"
    }
   ],
   "source": [
    "bin(30)"
   ]
  },
  {
   "cell_type": "code",
   "execution_count": 56,
   "metadata": {},
   "outputs": [
    {
     "data": {
      "text/plain": [
       "2"
      ]
     },
     "execution_count": 56,
     "metadata": {},
     "output_type": "execute_result"
    }
   ],
   "source": [
    "(1 << (l-1))"
   ]
  },
  {
   "cell_type": "code",
   "execution_count": 57,
   "metadata": {},
   "outputs": [
    {
     "data": {
      "text/plain": [
       "15"
      ]
     },
     "execution_count": 57,
     "metadata": {},
     "output_type": "execute_result"
    }
   ],
   "source": [
    "(1 << (r - l + 1)) - 1"
   ]
  },
  {
   "cell_type": "code",
   "execution_count": 59,
   "metadata": {},
   "outputs": [
    {
     "data": {
      "text/plain": [
       "60"
      ]
     },
     "execution_count": 59,
     "metadata": {},
     "output_type": "execute_result"
    }
   ],
   "source": [
    "15 << 2"
   ]
  },
  {
   "cell_type": "code",
   "execution_count": 71,
   "metadata": {},
   "outputs": [
    {
     "name": "stdout",
     "output_type": "stream",
     "text": [
      "(' 0', '    0', 0)\n",
      "(' 1', '    1', 1)\n",
      "(' 2', '   10', 2)\n",
      "(' 3', '   11', 4)\n",
      "(' 4', '  100', 5)\n",
      "(' 5', '  101', 7)\n",
      "(' 6', '  110', 9)\n",
      "(' 7', '  111', 12)\n",
      "(' 8', ' 1000', 13)\n",
      "(' 9', ' 1001', 15)\n",
      "('10', ' 1010', 17)\n",
      "('11', ' 1011', 20)\n",
      "('12', ' 1100', 22)\n",
      "('13', ' 1101', 25)\n",
      "('14', ' 1110', 28)\n",
      "('15', ' 1111', 32)\n",
      "('16', '10000', 33)\n",
      "('17', '10001', 35)\n",
      "('18', '10010', 37)\n",
      "('19', '10011', 40)\n",
      "('20', '10100', 42)\n",
      "('21', '10101', 45)\n",
      "('22', '10110', 48)\n",
      "('23', '10111', 52)\n",
      "('24', '11000', 54)\n",
      "('25', '11001', 57)\n",
      "('26', '11010', 60)\n",
      "('27', '11011', 64)\n",
      "('28', '11100', 67)\n",
      "('29', '11101', 71)\n",
      "('30', '11110', 75)\n",
      "('31', '11111', 80)\n",
      "('32', '100000', 81)\n"
     ]
    }
   ],
   "source": [
    "r = 0\n",
    "for i in range(33):\n",
    "    r += bin(i)[2:].count('1')\n",
    "    print((str(i).rjust(2), bin(i)[2:].rjust(5), r))"
   ]
  },
  {
   "cell_type": "code",
   "execution_count": 72,
   "metadata": {},
   "outputs": [
    {
     "data": {
      "text/plain": [
       "'0b100100'"
      ]
     },
     "execution_count": 72,
     "metadata": {},
     "output_type": "execute_result"
    }
   ],
   "source": [
    "bin(36)"
   ]
  },
  {
   "cell_type": "code",
   "execution_count": 76,
   "metadata": {},
   "outputs": [],
   "source": [
    "n = 38"
   ]
  },
  {
   "cell_type": "code",
   "execution_count": 77,
   "metadata": {},
   "outputs": [
    {
     "data": {
      "text/plain": [
       "36"
      ]
     },
     "execution_count": 77,
     "metadata": {},
     "output_type": "execute_result"
    }
   ],
   "source": [
    "n & (n-1)"
   ]
  },
  {
   "cell_type": "code",
   "execution_count": 80,
   "metadata": {},
   "outputs": [
    {
     "name": "stdout",
     "output_type": "stream",
     "text": [
      "1\n",
      "3 2\n",
      "1\n"
     ]
    }
   ],
   "source": [
    "t=int(input())\n",
    "for _ in range(t):\n",
    "    n,k=map(int,input().split())\n",
    "    summation=0\n",
    "    last_term=k-1\n",
    "    common_difference=n-1\n",
    "    first_term=last_term%common_difference\n",
    "    if first_term==0:\n",
    "        first_term=common_difference\n",
    "    no_of_terms=(last_term-first_term)//common_difference + 1\n",
    "    #print(no_of_terms,first_term,last_term,common_difference)\n",
    "    summation=(((no_of_terms)*(first_term+last_term))//2)%1000000007\n",
    "    print(summation)"
   ]
  },
  {
   "cell_type": "code",
   "execution_count": null,
   "metadata": {},
   "outputs": [],
   "source": [
    "n, k = "
   ]
  },
  {
   "cell_type": "code",
   "execution_count": 82,
   "metadata": {},
   "outputs": [],
   "source": [
    "d  = n -1\n",
    "last = k -1"
   ]
  },
  {
   "cell_type": "code",
   "execution_count": null,
   "metadata": {},
   "outputs": [],
   "source": [
    "8 + 5 + 2"
   ]
  },
  {
   "cell_type": "code",
   "execution_count": 86,
   "metadata": {},
   "outputs": [
    {
     "name": "stdout",
     "output_type": "stream",
     "text": [
      "2\n"
     ]
    }
   ],
   "source": [
    "l = 8\n",
    "d = 3\n",
    "q = ceil(l/d)\n"
   ]
  },
  {
   "cell_type": "code",
   "execution_count": null,
   "metadata": {},
   "outputs": [],
   "source": [
    "q = (l - )"
   ]
  },
  {
   "cell_type": "code",
   "execution_count": 92,
   "metadata": {},
   "outputs": [
    {
     "name": "stdout",
     "output_type": "stream",
     "text": [
      "❤\n"
     ]
    }
   ],
   "source": [
    "print('\\u2764')"
   ]
  },
  {
   "cell_type": "code",
   "execution_count": 97,
   "metadata": {},
   "outputs": [
    {
     "data": {
      "text/plain": [
       "'0b1000'"
      ]
     },
     "execution_count": 97,
     "metadata": {},
     "output_type": "execute_result"
    }
   ],
   "source": [
    "bin(8)"
   ]
  },
  {
   "cell_type": "code",
   "execution_count": 99,
   "metadata": {},
   "outputs": [
    {
     "data": {
      "text/plain": [
       "'0b1000000'"
      ]
     },
     "execution_count": 99,
     "metadata": {},
     "output_type": "execute_result"
    }
   ],
   "source": [
    "bin(1<<6)"
   ]
  },
  {
   "cell_type": "code",
   "execution_count": 102,
   "metadata": {},
   "outputs": [
    {
     "name": "stdout",
     "output_type": "stream",
     "text": [
      "(0, '     0')\n",
      "(3, '    11')\n",
      "(6, '   110')\n",
      "(9, '  1001')\n",
      "(12, '  1100')\n",
      "(15, '  1111')\n",
      "(18, ' 10010')\n",
      "(21, ' 10101')\n",
      "(24, ' 11000')\n",
      "(27, ' 11011')\n",
      "(30, ' 11110')\n"
     ]
    }
   ],
   "source": [
    "for i in range(0,31,3):\n",
    "    print((i,bin(i)[2:].rjust(6)))"
   ]
  },
  {
   "cell_type": "code",
   "execution_count": 109,
   "metadata": {},
   "outputs": [
    {
     "name": "stdout",
     "output_type": "stream",
     "text": [
      "1\n",
      "1001\n",
      "Y\n",
      "Y\n",
      "9\n"
     ]
    }
   ],
   "source": [
    "#code\n",
    "t = int(input())\n",
    "\n",
    "for _ in range(t):\n",
    "    n = input().strip()\n",
    "    \n",
    "    x = len(n)\n",
    "    s = 0\n",
    "    for i in reversed(range(x)):\n",
    "        if n[i] == '1':\n",
    "            s += pow(2,x - i - 1)\n",
    "            \n",
    "    if((s % 3) == 0)\n",
    "        print()"
   ]
  },
  {
   "cell_type": "code",
   "execution_count": 129,
   "metadata": {},
   "outputs": [],
   "source": [
    "n = 5"
   ]
  },
  {
   "cell_type": "code",
   "execution_count": 130,
   "metadata": {},
   "outputs": [
    {
     "name": "stdout",
     "output_type": "stream",
     "text": [
      "2684354560\n"
     ]
    }
   ],
   "source": [
    "s = bin(n)[2:].rjust(32,'0')\n",
    "print(int(s[::-1], 2))"
   ]
  },
  {
   "cell_type": "code",
   "execution_count": 133,
   "metadata": {},
   "outputs": [
    {
     "data": {
      "text/plain": [
       "'00000000000000000000000000000101'"
      ]
     },
     "execution_count": 133,
     "metadata": {},
     "output_type": "execute_result"
    }
   ],
   "source": [
    "s"
   ]
  },
  {
   "cell_type": "code",
   "execution_count": 134,
   "metadata": {},
   "outputs": [
    {
     "data": {
      "text/plain": [
       "'0b10100000000000000000000000000000'"
      ]
     },
     "execution_count": 134,
     "metadata": {},
     "output_type": "execute_result"
    }
   ],
   "source": [
    "bin(2684354560)"
   ]
  },
  {
   "cell_type": "code",
   "execution_count": null,
   "metadata": {},
   "outputs": [],
   "source": []
  },
  {
   "cell_type": "code",
   "execution_count": null,
   "metadata": {},
   "outputs": [],
   "source": [
    "db.movies.aggregate([ { $match : { $or : [ { \"imdb.rating\" : { $gte : 6} },\n",
    "                                          {genre : { $ne : { $and : [\"Crime\", \"Horror\"]} }}, \n",
    "                                          {rated : { $or : [\"PG\", \"G\"]}}, \n",
    "                                          {languages : { $and : [\"English\", \"Japanese\"]}}]   }}]).pretty()"
   ]
  },
  {
   "cell_type": "code",
   "execution_count": null,
   "metadata": {},
   "outputs": [],
   "source": []
  },
  {
   "cell_type": "code",
   "execution_count": null,
   "metadata": {},
   "outputs": [],
   "source": []
  },
  {
   "cell_type": "code",
   "execution_count": null,
   "metadata": {},
   "outputs": [],
   "source": []
  }
 ],
 "metadata": {
  "kernelspec": {
   "display_name": "Python 3",
   "language": "python",
   "name": "python3"
  },
  "language_info": {
   "codemirror_mode": {
    "name": "ipython",
    "version": 3
   },
   "file_extension": ".py",
   "mimetype": "text/x-python",
   "name": "python",
   "nbconvert_exporter": "python",
   "pygments_lexer": "ipython3",
   "version": "3.6.4"
  }
 },
 "nbformat": 4,
 "nbformat_minor": 2
}
